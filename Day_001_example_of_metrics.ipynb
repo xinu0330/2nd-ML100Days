{
 "cells": [
  {
   "cell_type": "code",
   "execution_count": null,
   "metadata": {},
   "outputs": [],
   "source": [
    "ex1\n",
    "1.在奧斯汀動物中心是美國最大的不殺動物收容所，提供服務和住所每年超過18千種動物。\n",
    "作為AAC幫助和照顧有需要的動物的努力的一部分，該組織將其累積的數據和統計數據作為奧斯汀市開放數據計劃的一部分提供。\n",
    "2.該數據包含從2013年10月初到現在進入奧斯汀動物中心的動物的攝入量和結果。這些數據集也可以在\n",
    "Socrata Open Data Access API上免費獲取，並且每天更新。\n",
    "3.採用\n",
    "這只動物被收養到一個家裡\n",
    "穀倉收養\n",
    "這種動物被收養住在一個穀倉裡\n",
    "場外缺失\n",
    "該動物在一個場外夥伴位置因不明原因而失踪\n",
    "In-Foster失踪\n",
    "放入寄養家庭後，動物失踪了\n",
    "In-Kennel失踪\n",
    "轉移到狗窩設施後，動物失踪了\n",
    "可能的盜竊\n",
    "雖然沒有得到證實，但由於該設施被盜，該動物失踪了\n",
    "穀倉轉移\n",
    "將動物轉移到設施中以便進入穀倉環境\n",
    "4.從第一個數據集發佈到Kaggle，Austin Animal Shelter Outcomes，最初只是為貓進行過濾，作為我正在進行的分析的一部分，\n",
    "我想發布完整的結果並補充攝入量數據集。我希望Kaggle的偉大用戶會發現這些數據很有趣，並希望進一步探索庇護動物統計數據，並可能更多地參與動物福利界。\n",
    "對這些數據和其他庇護動物提供的數據集的分析有助於發現有可能直接拯救生命的有用見解。"
   ]
  },
  {
   "cell_type": "code",
   "execution_count": null,
   "metadata": {},
   "outputs": [],
   "source": [
    "ex2\n",
    "1.提升業績，搭車率高地點，路程時間降低\n",
    "2.GOOGLE地圖估計里程數，司機安裝GPS，司機人數多，實地測試.....\n",
    "3.時間、里程、載客數\n",
    "4.透過長時間載客收集數據並回報相關資料最後投入演算法，訓練模型"
   ]
  },
  {
   "cell_type": "code",
   "execution_count": null,
   "metadata": {},
   "outputs": [],
   "source": []
  }
 ],
 "metadata": {
  "kernelspec": {
   "display_name": "Python 3",
   "language": "python",
   "name": "python3"
  },
  "language_info": {
   "codemirror_mode": {
    "name": "ipython",
    "version": 3
   },
   "file_extension": ".py",
   "mimetype": "text/x-python",
   "name": "python",
   "nbconvert_exporter": "python",
   "pygments_lexer": "ipython3",
   "version": "3.5.5"
  }
 },
 "nbformat": 4,
 "nbformat_minor": 2
}
